{
 "cells": [
  {
   "cell_type": "code",
   "execution_count": 21,
   "metadata": {
    "collapsed": true
   },
   "outputs": [],
   "source": [
    "import glob\n",
    "import pickle\n",
    "import os\n",
    "import numpy as np"
   ]
  },
  {
   "cell_type": "code",
   "execution_count": 22,
   "metadata": {
    "collapsed": true
   },
   "outputs": [],
   "source": [
    "def read_from_file(file):\n",
    "    with open(file, 'rb') as fo:\n",
    "        data = pickle.load(fo, encoding='bytes')\n",
    "    return data"
   ]
  },
  {
   "cell_type": "code",
   "execution_count": 23,
   "metadata": {
    "collapsed": true
   },
   "outputs": [],
   "source": [
    "def read_train(path):\n",
    "    train_data = []\n",
    "    labels = []\n",
    "    for file in glob.glob(os.path.join(path, 'data_batch*')):\n",
    "        data = read_from_file(file)\n",
    "        labels.append(data[b'labels'])\n",
    "        train_data.append(data[b'data'])\n",
    "    \n",
    "    train_data = np.concatenate(train_data)\n",
    "    labels = np.concatenate(labels)\n",
    "    \n",
    "    return train_data, labels"
   ]
  },
  {
   "cell_type": "code",
   "execution_count": 27,
   "metadata": {},
   "outputs": [],
   "source": [
    "x_train, y_train = read_train('Cifar10/')\n",
    "y_labels = np.eye(10)[y_train]\n",
    "x_train = x_train.reshape(-1, 3, 32, 32).transpose(0, 2, 3, 1)"
   ]
  },
  {
   "cell_type": "code",
   "execution_count": null,
   "metadata": {
    "collapsed": true
   },
   "outputs": [],
   "source": []
  },
  {
   "cell_type": "code",
   "execution_count": null,
   "metadata": {
    "collapsed": true
   },
   "outputs": [],
   "source": []
  },
  {
   "cell_type": "code",
   "execution_count": 1,
   "metadata": {
    "collapsed": true
   },
   "outputs": [],
   "source": [
    "from keras.models import load_model"
   ]
  },
  {
   "cell_type": "code",
   "execution_count": 2,
   "metadata": {
    "collapsed": true
   },
   "outputs": [],
   "source": [
    "model = load_model('model1.h5')"
   ]
  },
  {
   "cell_type": "code",
   "execution_count": 4,
   "metadata": {},
   "outputs": [],
   "source": [
    "import tensorflow as tf"
   ]
  },
  {
   "cell_type": "code",
   "execution_count": 9,
   "metadata": {},
   "outputs": [],
   "source": [
    "x = tf.placeholder(tf.float32, shape=(None, 32,32,3))"
   ]
  },
  {
   "cell_type": "code",
   "execution_count": 34,
   "metadata": {},
   "outputs": [],
   "source": [
    "c = []\n",
    "for dev in ['/cpu:0']: # Add '/gpu:0'\n",
    "    with tf.device(dev):\n",
    "        c.append(model(x))\n",
    "with tf.device('/cpu:0'):\n",
    "    predictions = tf.concat(c, 0)\n",
    "    "
   ]
  },
  {
   "cell_type": "code",
   "execution_count": 35,
   "metadata": {
    "collapsed": true
   },
   "outputs": [],
   "source": [
    "# Initialize all variables\n",
    "session = tf.Session()\n",
    "session.run(tf.global_variables_initializer())"
   ]
  },
  {
   "cell_type": "code",
   "execution_count": 36,
   "metadata": {},
   "outputs": [
    {
     "data": {
      "text/plain": [
       "array([[  1.77346422e-08,   9.99405026e-01,   8.51054637e-26, ...,\n",
       "          1.30165095e-12,   1.07861353e-14,   7.05589753e-10],\n",
       "       [  3.67032520e-08,   8.56951296e-01,   1.49046852e-27, ...,\n",
       "          1.40875065e-16,   2.63639481e-16,   9.28118953e-12],\n",
       "       [  5.22422727e-09,   1.63325889e-03,   5.77029311e-22, ...,\n",
       "          2.13703404e-12,   9.13720727e-01,   3.71142573e-06],\n",
       "       ..., \n",
       "       [  1.51063176e-07,   2.73341034e-02,   5.10412227e-17, ...,\n",
       "          6.54505117e-10,   2.33553816e-04,   1.67704711e-05],\n",
       "       [  1.03781773e-07,   9.16618645e-01,   3.32654515e-22, ...,\n",
       "          8.35345071e-10,   3.31497885e-11,   1.65437456e-07],\n",
       "       [  4.33403224e-09,   9.99984384e-01,   1.70705418e-18, ...,\n",
       "          4.86397130e-06,   4.65733285e-10,   1.05549962e-05]], dtype=float32)"
      ]
     },
     "execution_count": 36,
     "metadata": {},
     "output_type": "execute_result"
    }
   ],
   "source": [
    "session.run(predictions, feed_dict={x : x_train})"
   ]
  },
  {
   "cell_type": "code",
   "execution_count": null,
   "metadata": {
    "collapsed": true
   },
   "outputs": [],
   "source": []
  }
 ],
 "metadata": {
  "kernelspec": {
   "display_name": "Python 3",
   "language": "python",
   "name": "python3"
  },
  "language_info": {
   "codemirror_mode": {
    "name": "ipython",
    "version": 3
   },
   "file_extension": ".py",
   "mimetype": "text/x-python",
   "name": "python",
   "nbconvert_exporter": "python",
   "pygments_lexer": "ipython3",
   "version": "3.5.3"
  }
 },
 "nbformat": 4,
 "nbformat_minor": 2
}
